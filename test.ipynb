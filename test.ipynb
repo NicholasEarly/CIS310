{
 "cells": [
  {
   "cell_type": "code",
   "execution_count": 25,
   "metadata": {},
   "outputs": [
    {
     "name": "stdout",
     "output_type": "stream",
     "text": [
      "True False\n"
     ]
    }
   ],
   "source": [
    "x = [20, 40, 60, 80]\n",
    "y = [20, 40, 60, 80]\n",
    "print(x == y, x is y)"
   ]
  },
  {
   "cell_type": "code",
   "execution_count": 2,
   "metadata": {},
   "outputs": [
    {
     "name": "stdout",
     "output_type": "stream",
     "text": [
      "0\n",
      "1\n",
      "9\n"
     ]
    }
   ],
   "source": [
    "stop = 7\n",
    "result = 0\n",
    "for n in range(10):\n",
    "    result += n+2\n",
    "    if result > stop:\n",
    "        break\n",
    "    print(n)\n",
    "print(result)"
   ]
  },
  {
   "cell_type": "code",
   "execution_count": 3,
   "metadata": {},
   "outputs": [
    {
     "name": "stdout",
     "output_type": "stream",
     "text": [
      "-4 - -2 - 0 - 2 done\n"
     ]
    }
   ],
   "source": [
    "result = 0\n",
    "for n in range(7):\n",
    "    result = n-4\n",
    "    if (result % 2) != 0:\n",
    "        print('-', end=' ')\n",
    "        continue\n",
    "    print(result, end=' ')\n",
    "print('done')"
   ]
  },
  {
   "cell_type": "code",
   "execution_count": 4,
   "metadata": {},
   "outputs": [
    {
     "name": "stdout",
     "output_type": "stream",
     "text": [
      "4\n",
      "12\n",
      "20\n",
      "28\n"
     ]
    }
   ],
   "source": [
    "a = 2\n",
    "b=24\n",
    "c=22\n",
    "result = 0\n",
    "while a<b:\n",
    "    result = a*2\n",
    "    print(result)\n",
    "    if result > c:\n",
    "        break\n",
    "    a+=4"
   ]
  },
  {
   "cell_type": "code",
   "execution_count": 6,
   "metadata": {},
   "outputs": [
    {
     "name": "stdout",
     "output_type": "stream",
     "text": [
      "6\n",
      "16\n"
     ]
    }
   ],
   "source": [
    "stop = 11\n",
    "result = 0\n",
    "for a in range(5):\n",
    "    for b in range(4):\n",
    "        result += a+b\n",
    "    print(result)\n",
    "    if result > stop:\n",
    "        break"
   ]
  },
  {
   "cell_type": "code",
   "execution_count": 8,
   "metadata": {},
   "outputs": [
    {
     "name": "stdout",
     "output_type": "stream",
     "text": [
      "0: 0 1 \n",
      "1: 2 4 \n",
      "2: 6 - \n",
      "3: - - \n"
     ]
    }
   ],
   "source": [
    "stop = 8\n",
    "result = 0\n",
    "for a in range(4):\n",
    "    print(a, end=': ')\n",
    "    for b in range(2):\n",
    "        result += a + b\n",
    "        if result > stop:\n",
    "            print('-', end=\" \")\n",
    "            continue\n",
    "        print(result, end=\" \")\n",
    "    print()"
   ]
  },
  {
   "cell_type": "code",
   "execution_count": 11,
   "metadata": {},
   "outputs": [
    {
     "name": "stdout",
     "output_type": "stream",
     "text": [
      "2 3 4 / 12\n",
      "done\n"
     ]
    }
   ],
   "source": [
    "result = 0\n",
    "n = 2\n",
    "while n < 5:\n",
    "    print(n, end=' ')\n",
    "    result += 4\n",
    "    n += 1\n",
    "else:\n",
    "    print('/ {}'.format(result))\n",
    "print(\"done\")"
   ]
  },
  {
   "cell_type": "code",
   "execution_count": 13,
   "metadata": {},
   "outputs": [
    {
     "name": "stdout",
     "output_type": "stream",
     "text": [
      "1 2 3 *\n",
      "done\n"
     ]
    }
   ],
   "source": [
    "result = 0\n",
    "n = 1\n",
    "while n < 8:\n",
    "    print(n, end=\" \")\n",
    "    result -= 3\n",
    "    if result < -8:\n",
    "        \n",
    "        print('*')\n",
    "        break\n",
    "    n += 1\n",
    "else:\n",
    "    print('/ {}'.format(result))\n",
    "print('done')"
   ]
  },
  {
   "cell_type": "code",
   "execution_count": 15,
   "metadata": {},
   "outputs": [
    {
     "name": "stdout",
     "output_type": "stream",
     "text": [
      "0 1 2 \\ -6\n",
      "done\n"
     ]
    }
   ],
   "source": [
    "result = 0\n",
    "for n in range(3):\n",
    "    print(n, end=' ')\n",
    "    result -= 2\n",
    "else:\n",
    "    print('\\ {}'.format(result))\n",
    "print('done')"
   ]
  },
  {
   "cell_type": "code",
   "execution_count": 16,
   "metadata": {},
   "outputs": [
    {
     "name": "stdout",
     "output_type": "stream",
     "text": [
      "2 5 6 !\n",
      "done\n"
     ]
    }
   ],
   "source": [
    "stop = 7\n",
    "total = 0\n",
    "for number in [2,5,6,3,7,5]:\n",
    "    print(number, end=' ')\n",
    "    total += number\n",
    "    if total > stop:\n",
    "        print('!')\n",
    "        break\n",
    "else:\n",
    "    print('/ {}'.format(total))\n",
    "print('done')"
   ]
  },
  {
   "cell_type": "code",
   "execution_count": 19,
   "metadata": {},
   "outputs": [
    {
     "name": "stdout",
     "output_type": "stream",
     "text": [
      "0 red\n",
      "1 black\n",
      "2 green\n",
      "3 yellow\n"
     ]
    }
   ],
   "source": [
    "colors = ['red', 'black', 'green', 'yellow']\n",
    "for (position, color) in enumerate(colors):\n",
    "    print(position, color)"
   ]
  },
  {
   "cell_type": "code",
   "execution_count": null,
   "metadata": {},
   "outputs": [],
   "source": []
  }
 ],
 "metadata": {
  "kernelspec": {
   "display_name": "Python 3.7 - default",
   "language": "python",
   "name": "py37_default"
  },
  "language_info": {
   "codemirror_mode": {
    "name": "ipython",
    "version": 3
   },
   "file_extension": ".py",
   "mimetype": "text/x-python",
   "name": "python",
   "nbconvert_exporter": "python",
   "pygments_lexer": "ipython3",
   "version": "3.7.7"
  }
 },
 "nbformat": 4,
 "nbformat_minor": 4
}
