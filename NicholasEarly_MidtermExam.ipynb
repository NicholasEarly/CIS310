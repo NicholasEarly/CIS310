{
 "cells": [
  {
   "cell_type": "markdown",
   "metadata": {},
   "source": [
    "# Instructions:\n",
    "\n",
    "1) Rename this .ipynb file with your first and last name\n",
    "\n",
    "2) Complete the exam info form\n",
    "\n",
    "3) Answer all the questions\n",
    "\n",
    "4) Upload this file into Canvas as your submisison file\n",
    "\n",
    "**Do not upload/push this file into your GitHub account**"
   ]
  },
  {
   "cell_type": "markdown",
   "metadata": {},
   "source": [
    "# Complete the file info form:\n",
    "\n",
    "Your Full Name: Nicholas Early\n",
    "\n",
    "Your CSU ID: 831334897\n",
    "\n",
    "Date:10/22/2020\n"
   ]
  },
  {
   "cell_type": "markdown",
   "metadata": {},
   "source": [
    "## Q1: \n",
    "Prompt the user for the number of cups of lemon juice, water, and agave nectar needed to make lemonade. Prompt the user to specify the number of servings the recipe yields. Output the ingredients and serving size. (Submit for 3 points).\n",
    "\n",
    "**Sample Input/Output**\n",
    "\n",
    "Enter amount of lemon juice (in cups):\n",
    "\n",
    "2\n",
    "\n",
    "Enter amount of water (in cups):\n",
    "\n",
    "16\n",
    "\n",
    "Enter amount of agave nectar (in cups):\n",
    "\n",
    "2.5\n",
    "\n",
    "How many servings does this make?\n",
    "\n",
    "6\n",
    "\n",
    "Lemonade ingredients - yields 6.00 servings\n",
    "\n",
    "2.00 cup(s) lemon juice\n",
    "\n",
    "16.00 cup(s) water\n",
    "\n",
    "2.50 cup(s) agave nectar\n",
    "\n",
    "**Hint:**\n",
    "\n",
    "- Output each floating-point value with two digits after the decimal point, which can be achieved as follows: print('{:.2f}'.format(your_value))\n",
    "\n",
    "- Use the built input() function to receive input from the user\n",
    "\n",
    "- Use either str.format or f-String method in the print statment to provide the desired output format\n"
   ]
  },
  {
   "cell_type": "code",
   "execution_count": 1,
   "metadata": {},
   "outputs": [
    {
     "name": "stdout",
     "output_type": "stream",
     "text": [
      "Enter amount of lemon juice (in cups):\n",
      "2\n",
      "Enter amount of water (in cups):\n",
      "16\n",
      "Enter amount of agave nectar (in cups):\n",
      "2.5\n",
      "How mant servings will this make?\n",
      "6\n",
      "Lemonade ingredients - yields 6.00 servings\n",
      "2.00 cup(s) of lemon juice\n",
      "16.00 cup(s) of water\n",
      "2.50 cup(s) of agave nectar\n"
     ]
    }
   ],
   "source": [
    "#Q1 Anaswer - complete the following code\n",
    "\n",
    "lemon_juice_cups = float(input('Enter amount of lemon juice (in cups):\\n'))\n",
    "water_cups = float(input('Enter amount of water (in cups):\\n'))\n",
    "agave_cups = float(input('Enter amount of agave nectar (in cups):\\n'))\n",
    "servings = float(input('How mant servings will this make?\\n'))\n",
    "# Finish reading other items into variables, then output the three ingrdients - water_cups, sugar_cups, serving_size\n",
    "\n",
    "\n",
    "print('Lemonade ingredients - yields {:.2f} servings'.format(servings))\n",
    "print('{:.2f} cup(s) of lemon juice'.format(lemon_juice_cups))\n",
    "print('{:.2f} cup(s) of water'.format(water_cups))\n",
    "print('{:.2f} cup(s) of agave nectar'.format(agave_cups))\n",
    "\n",
    "\n",
    "\n",
    "   "
   ]
  },
  {
   "cell_type": "markdown",
   "metadata": {},
   "source": [
    "## Q2:\n",
    "\n",
    "Prompt the user for an automobile service type, the display the user input and the cost of service  (Submit for 3 points).\n",
    "\n",
    "The program should support the following services (all integers):\n",
    "\n",
    "- Oil change - $35\n",
    "\n",
    "- Tire rotation -- $19 \n",
    "\n",
    "- Car wash -- $7\n",
    "\n",
    "If the user enters a service that is not listed above, then output the following error message:\n",
    "\n",
    "- Error: Requested service is not recognized\n",
    "\n",
    "**Sample Input/Output**\n",
    "\n",
    "Enter desired auto service:\n",
    "\n",
    "Oil change\n",
    "\n",
    "You entered: Oil change\n",
    "\n",
    "Cost of oil change: $35\n",
    "\n",
    "**Hint:**\n",
    "\n",
    "- Use the if stament to identify the auto service type based on the service name\n",
    "\n",
    "- Use the built input() function to receive input from the user\n"
   ]
  },
  {
   "cell_type": "code",
   "execution_count": 4,
   "metadata": {},
   "outputs": [
    {
     "name": "stdout",
     "output_type": "stream",
     "text": [
      "Please enter your desired service type:Tire rotation\n",
      "you entered: Tire rotation\n",
      "Cost of an Tire rotation is $19\n"
     ]
    }
   ],
   "source": [
    "#Q2 Answer - Complete the following code\n",
    "\n",
    "# Dictionary of service type and cost per service\n",
    "service_cost = {\n",
    "   'Oil change': 35,\n",
    "   'Tire rotation': 19,\n",
    "   'Car wash': 7\n",
    "}\n",
    "\n",
    "# Input and output the the required service choice - service_choice\n",
    "service_choice = str(input('Please enter your desired service type:'))\n",
    "\n",
    "# Compute and output the service cost using the provided dictionary using if statement\n",
    "if service_choice in service_cost:\n",
    "    print('you entered: ' + service_choice)\n",
    "    print('Cost of an ' + service_choice + ' is ${}'.format(service_cost[service_choice]))\n",
    "else:\n",
    "    print('Error: Requested service is not recognized')\n"
   ]
  },
  {
   "cell_type": "markdown",
   "metadata": {},
   "source": [
    "## Q3:\n",
    "\n",
    "Write a python code whose input is two integers. Output the first integer and subsequent increments of 5 as long as the value is less than or equal to the second integer (Submit for 4 points).\n",
    "\n",
    "**Sample Input/Output:**:\n",
    "\n",
    "Ex: If the input is:\n",
    "\n",
    "num1 = -15\n",
    "\n",
    "num2 = 10\n",
    "\n",
    "the output is:\n",
    "\n",
    "-15 -10 -5 0 5 10 \n",
    "\n",
    "*Ex: If the second integer is less than the first as in:\n",
    "\n",
    "num1 = 20\n",
    "\n",
    "num2 = 5\n",
    "\n",
    "the output is:\n",
    "\n",
    "Second integer can't be less than the first.\n",
    "\n",
    "\n",
    "**Hint:**\n",
    "\n",
    "- Use the built input() function to receive input from the user\n",
    "- Use the for loop to print all nubers beween num1 and num2\n",
    "- Use the built in range() method inside to for loop with appropriate start, end, and step values\n",
    "- Use the if stament to check if num2 is greater than num1\n",
    "\n"
   ]
  },
  {
   "cell_type": "code",
   "execution_count": 1,
   "metadata": {},
   "outputs": [
    {
     "name": "stdout",
     "output_type": "stream",
     "text": [
      "Num1 = 20\n",
      "Num2 = 5\n",
      "Second integer can't be less than first\n"
     ]
    }
   ],
   "source": [
    "#Q3 Answer - Complete the following code\n",
    "num1 = int(input('Num1 = '))\n",
    "num2 = int(input('Num2 = '))\n",
    "if num1 > num2:\n",
    "    print(\"Second integer can't be less than first\")\n",
    "while num1 <= num2:\n",
    "    print(num1)\n",
    "    num1 += 5\n",
    "\n",
    "#Input and output the value of num1 and num2\n",
    "\n",
    "# Use if-elsel statment to check that num2 < num1, if this true, output the appropriate message and stop\n",
    "# else, use for loop to output the first integer and subsequent increments of 5 as long as the value is less than or equal to the second integer\n",
    "# use the range() method to complete this task\n"
   ]
  },
  {
   "cell_type": "markdown",
   "metadata": {},
   "source": [
    "## Q4 \n",
    "\n",
    "Write a python code that calculates the cost of painting a wall, the cost depends on the number of gallons (and the paint color price) that are needed to cover the wall area (Submit for 5 points).\n",
    "\n",
    "**Sample Input/Output**\n",
    "\n",
    "Enter wall height (feet):\n",
    "\n",
    "12\n",
    "\n",
    "Enter wall width (feet):\n",
    "\n",
    "15\n",
    "\n",
    "Wall area: 180 square feet\n",
    "\n",
    "Paint needed: 0.51 gallons\n",
    "\n",
    "Cans needed: 1 can(s)\n",
    "\n",
    "\n",
    "Choose a color to paint the wall:\n",
    "\n",
    "red\n",
    "\n",
    "Cost of purchasing red paint: $35\n",
    "\n",
    "\n",
    "**Hint:**\n",
    "\n",
    "- Use the built input() function to receive input from the user\n",
    "\n",
    "\n",
    "\n",
    "\n",
    "\n"
   ]
  },
  {
   "cell_type": "code",
   "execution_count": 6,
   "metadata": {},
   "outputs": [
    {
     "name": "stdout",
     "output_type": "stream",
     "text": [
      "Enter the walls height50\n",
      "Enter the walls width100\n",
      "Paint needed: 14.29 gallons\n",
      "Cans needed: 15 cans(s)\n",
      "Choose a color to paint the wall:black\n",
      "Error: Requested color is not recognized\n"
     ]
    }
   ],
   "source": [
    "#Q4 Answer - Complete the following code \n",
    "\n",
    "import math\n",
    "\n",
    "# Dictionary of paint colors and cost per gallon\n",
    "paint_colors = {\n",
    "   'red': 35,\n",
    "   'blue': 25,\n",
    "   'green': 23\n",
    "}\n",
    "\n",
    "# Prompt user to input wall's width and height, wall_height and wall_width \n",
    "height = float(input('Enter the walls height'))\n",
    "width = float(input('Enter the walls width'))\n",
    "\n",
    "# Calculate and output wall area - wall_area\n",
    "wall_area = height*width\n",
    "\n",
    "   \n",
    "# Calculate and output the amount of paint in gallons needed to paint the wall _ gallons_needed\n",
    "#  Assume a gallon of paint covers 350 square feet. Store this value in a variable. Output the amount of paint needed using the %f conversion specifier.\n",
    "gallons = wall_area/350\n",
    "print('Paint needed: {:.2f} gallons'.format(gallons))\n",
    "\n",
    "# Calculate and output the number of 1 gallon cans needed to paint the wall, rounded up to nearest integer - cans_needed\n",
    "# Use a math function of math.ceil() to round up to the nearest gallon. \n",
    "print('Cans needed: {} cans(s)'.format(math.ceil(gallons)))\n",
    "\n",
    "\n",
    "# Calculate and output the total cost of paint can needed depending on color - wall_color\n",
    "# Use a dictionary to associate each paint color with its respective cost. \n",
    "#Red paint costs $35 per gallon can, blue paint costs $25 per gallon can, and green paint costs $23 per gallon can. \n",
    "color = str(input('Choose a color to paint the wall:'))\n",
    "if color in paint_colors:\n",
    "    print('Cost of purchasing ' + color + ' paint is ${}'.format(paint_colors[color]))\n",
    "else:\n",
    "    print('Error: Requested color is not recognized')\n"
   ]
  },
  {
   "cell_type": "code",
   "execution_count": null,
   "metadata": {},
   "outputs": [],
   "source": []
  }
 ],
 "metadata": {
  "kernelspec": {
   "display_name": "Python 3",
   "language": "python",
   "name": "python3"
  },
  "language_info": {
   "codemirror_mode": {
    "name": "ipython",
    "version": 3
   },
   "file_extension": ".py",
   "mimetype": "text/x-python",
   "name": "python",
   "nbconvert_exporter": "python",
   "pygments_lexer": "ipython3",
   "version": "3.7.4"
  }
 },
 "nbformat": 4,
 "nbformat_minor": 2
}
