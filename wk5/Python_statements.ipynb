{
 "cells": [
  {
   "cell_type": "markdown",
   "metadata": {},
   "source": [
    "# Ramadan Abdunabi\n",
    "## wk5\n",
    "### Python statements [if, else, elseif]"
   ]
  },
  {
   "cell_type": "code",
   "execution_count": 1,
   "metadata": {},
   "outputs": [
    {
     "name": "stdout",
     "output_type": "stream",
     "text": [
      "It was correct\n"
     ]
    }
   ],
   "source": [
    "if True:\n",
    "     print('It was correct')"
   ]
  },
  {
   "cell_type": "code",
   "execution_count": 2,
   "metadata": {},
   "outputs": [
    {
     "name": "stdout",
     "output_type": "stream",
     "text": [
      "Hi five\n"
     ]
    }
   ],
   "source": [
    "value = 5\n",
    "\n",
    "if value == 5:\n",
    "    print(\"Hi five\")\n",
    "else:\n",
    "    print(\"Lets try again.\")\n",
    "    "
   ]
  },
  {
   "cell_type": "code",
   "execution_count": 3,
   "metadata": {},
   "outputs": [
    {
     "name": "stdout",
     "output_type": "stream",
     "text": [
      "Lets try again.\n"
     ]
    }
   ],
   "source": [
    "value = 6\n",
    "\n",
    "if value == 5:\n",
    "    print(\"Hi five\")\n",
    "else:\n",
    "    print(\"Lets try again.\")"
   ]
  },
  {
   "cell_type": "code",
   "execution_count": 4,
   "metadata": {},
   "outputs": [
    {
     "name": "stdout",
     "output_type": "stream",
     "text": [
      "you may redo test2\n"
     ]
    }
   ],
   "source": [
    "test1 =99\n",
    "test2 = 87\n",
    "if test1 > test2:\n",
    "    print(\"you may redo test2\")\n",
    "else:\n",
    "    print(\"Then, redo test1\")"
   ]
  },
  {
   "cell_type": "code",
   "execution_count": 5,
   "metadata": {},
   "outputs": [
    {
     "name": "stdout",
     "output_type": "stream",
     "text": [
      "test1 and test2 are equal\n"
     ]
    }
   ],
   "source": [
    "test1 = 79\n",
    "test2 = 79\n",
    "if test1 > test2:\n",
    "    print('Test1 is greater than test2')\n",
    "    print('You may think to redo test2')\n",
    "elif test2 > test1:\n",
    "    print('test2 is greater than test1')\n",
    "    print('you may think about redoing test1')\n",
    "else:\n",
    "    print('test1 and test2 are equal')"
   ]
  },
  {
   "cell_type": "code",
   "execution_count": null,
   "metadata": {},
   "outputs": [],
   "source": []
  },
  {
   "cell_type": "code",
   "execution_count": 6,
   "metadata": {},
   "outputs": [],
   "source": [
    "test1 = 79\n",
    "test2 = 79\n",
    "if test1 > test2:\n",
    "    print('Test1 is greater than test2')\n",
    "    print('You may think to redo test2')\n",
    "elif test2 > test1:\n",
    "    print('test2 is greater than test1')\n",
    "    print('you may think about redoing test1')\n",
    "else:\n",
    "    print:('test1 and test2 are equal')"
   ]
  },
  {
   "cell_type": "code",
   "execution_count": 7,
   "metadata": {},
   "outputs": [
    {
     "name": "stdout",
     "output_type": "stream",
     "text": [
      "test2 is greater than test1\n"
     ]
    }
   ],
   "source": [
    "print(\"test1 is greater than test2\") if test1 > test2 else print(\"test2 is greater than test1\")"
   ]
  },
  {
   "cell_type": "code",
   "execution_count": 8,
   "metadata": {},
   "outputs": [
    {
     "name": "stdout",
     "output_type": "stream",
     "text": [
      "Welcome to Colorado\n"
     ]
    }
   ],
   "source": [
    "s = \"Colorado\"\n",
    "\n",
    "if s == \"Colorado\":\n",
    "    print(\"Welcome to Colorado\")\n",
    "elif s == \"Florida\":\n",
    "    print(\"Welcome to Florida\")\n",
    "elif s == \"Alaska\":\n",
    "    print(\"I did this assignment in Alaska\")\n",
    "else:\n",
    "    print(\"Where are you now?\")\n"
   ]
  },
  {
   "cell_type": "code",
   "execution_count": 9,
   "metadata": {},
   "outputs": [
    {
     "name": "stdout",
     "output_type": "stream",
     "text": [
      "Both conditions are true\n"
     ]
    }
   ],
   "source": [
    "#and\n",
    "\n",
    "s1 = 89\n",
    "s2 = 75\n",
    "s3 = 92\n",
    "\n",
    "if s1 > s2 and s3 > s2:\n",
    "    print(\"Both conditions are true\")"
   ]
  },
  {
   "cell_type": "code",
   "execution_count": 10,
   "metadata": {},
   "outputs": [
    {
     "name": "stdout",
     "output_type": "stream",
     "text": [
      "At least one of the conditions is true\n"
     ]
    }
   ],
   "source": [
    "#or logical operator\n",
    "if s1 < s2 or s3 > s2:\n",
    "    print(\"At least one of the conditions is true\")"
   ]
  },
  {
   "cell_type": "code",
   "execution_count": 11,
   "metadata": {},
   "outputs": [
    {
     "name": "stdout",
     "output_type": "stream",
     "text": [
      "Above 40\n",
      "Above 60\n"
     ]
    }
   ],
   "source": [
    "#Nested if statements\n",
    "s1 = 80\n",
    "\n",
    "if s1 > 40:\n",
    "    print(\"Above 40\")\n",
    "    if s1 > 60:\n",
    "        print(\"Above 60\")\n",
    "    else:\n",
    "        print(\"Not above 60\")"
   ]
  },
  {
   "cell_type": "code",
   "execution_count": 12,
   "metadata": {},
   "outputs": [],
   "source": [
    "if s1 > 60:\n",
    "    pass"
   ]
  },
  {
   "cell_type": "code",
   "execution_count": null,
   "metadata": {},
   "outputs": [],
   "source": []
  }
 ],
 "metadata": {
  "kernelspec": {
   "display_name": "Python 3.7 - default",
   "language": "python",
   "name": "py37_default"
  },
  "language_info": {
   "codemirror_mode": {
    "name": "ipython",
    "version": 3
   },
   "file_extension": ".py",
   "mimetype": "text/x-python",
   "name": "python",
   "nbconvert_exporter": "python",
   "pygments_lexer": "ipython3",
   "version": "3.7.7"
  }
 },
 "nbformat": 4,
 "nbformat_minor": 4
}
